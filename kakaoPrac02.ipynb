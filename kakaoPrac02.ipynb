{
  "nbformat": 4,
  "nbformat_minor": 0,
  "metadata": {
    "colab": {
      "name": "kakaoPrac02.ipynb",
      "provenance": [],
      "private_outputs": true,
      "collapsed_sections": [],
      "machine_shape": "hm",
      "mount_file_id": "1voe19d03RVDtIr6sDDBc4ozq6nUXzHp6",
      "authorship_tag": "ABX9TyO0+cosXy9y1i71L2wPVEda",
      "include_colab_link": true
    },
    "kernelspec": {
      "name": "python3",
      "display_name": "Python 3"
    },
    "accelerator": "TPU"
  },
  "cells": [
    {
      "cell_type": "markdown",
      "metadata": {
        "id": "view-in-github",
        "colab_type": "text"
      },
      "source": [
        "<a href=\"https://colab.research.google.com/github/hkit301/kaggle/blob/hajin/kakaoPrac02.ipynb\" target=\"_parent\"><img src=\"https://colab.research.google.com/assets/colab-badge.svg\" alt=\"Open In Colab\"/></a>"
      ]
    },
    {
      "cell_type": "code",
      "metadata": {
        "id": "kYbnHxtjBNHx",
        "colab_type": "code",
        "colab": {}
      },
      "source": [
        "pip install surprise"
      ],
      "execution_count": 0,
      "outputs": []
    },
    {
      "cell_type": "code",
      "metadata": {
        "id": "prS5ccnmBRxA",
        "colab_type": "code",
        "colab": {}
      },
      "source": [
        "pip install konlpy"
      ],
      "execution_count": 0,
      "outputs": []
    },
    {
      "cell_type": "code",
      "metadata": {
        "id": "IssIRfmME477",
        "colab_type": "code",
        "colab": {}
      },
      "source": [
        "%matplotlib inline\n",
        "import pandas as pd\n",
        "import numpy as np\n",
        "import re\n",
        "import matplotlib.pyplot as plt\n",
        "from scipy import stats\n",
        "from sklearn.feature_extraction.text import TfidfVectorizer, CountVectorizer\n",
        "from sklearn.metrics.pairwise import linear_kernel, cosine_similarity\n",
        "from konlpy.tag import Twitter\n",
        "from konlpy.tag import Mecab"
      ],
      "execution_count": 0,
      "outputs": []
    },
    {
      "cell_type": "code",
      "metadata": {
        "id": "cdVlCw7yFBcu",
        "colab_type": "code",
        "colab": {}
      },
      "source": [
        "genre_gn_all = pd.read_json('/content/drive/My Drive/Colab Notebooks/genre_gn_all.json', typ = 'series')\n",
        "genre_gn_all = pd.DataFrame(genre_gn_all, columns = ['gnr_name']).reset_index().rename(columns = {'index' : 'gnr_code'})"
      ],
      "execution_count": 0,
      "outputs": []
    },
    {
      "cell_type": "code",
      "metadata": {
        "id": "Nl2qpYgeFCW6",
        "colab_type": "code",
        "colab": {}
      },
      "source": [
        "gnr_code = genre_gn_all[genre_gn_all['gnr_code'].str[-2:] == '00']\n",
        "# gnr_code"
      ],
      "execution_count": 0,
      "outputs": []
    },
    {
      "cell_type": "code",
      "metadata": {
        "id": "A2hbz0IkFM27",
        "colab_type": "code",
        "colab": {}
      },
      "source": [
        "dtl_gnr_code = genre_gn_all[genre_gn_all['gnr_code'].str[-2:] != '00']\n",
        "dtl_gnr_code.rename(columns = {'gnr_code' : 'dtl_gnr_code', 'gnr_name' : 'dtl_gnr_name'}, inplace = True)\n",
        "\n",
        "# dtl_gnr_code"
      ],
      "execution_count": 0,
      "outputs": []
    },
    {
      "cell_type": "code",
      "metadata": {
        "id": "Y5HnezcqFQDS",
        "colab_type": "code",
        "colab": {}
      },
      "source": [
        "song_meta = pd.read_json('/content/drive/My Drive/Colab Notebooks/song_meta.json', typ = 'frame')\n",
        "# song_meta"
      ],
      "execution_count": 0,
      "outputs": []
    },
    {
      "cell_type": "code",
      "metadata": {
        "id": "qnxxon8LGLZu",
        "colab_type": "code",
        "colab": {}
      },
      "source": [
        "train = pd.read_json('/content/drive/My Drive/Colab Notebooks/train.json', typ = 'frame')"
      ],
      "execution_count": 0,
      "outputs": []
    },
    {
      "cell_type": "code",
      "metadata": {
        "id": "VfOiN5MtM6Aa",
        "colab_type": "code",
        "colab": {}
      },
      "source": [
        "train = train.sort_values('like_cnt',ascending=False).reset_index()"
      ],
      "execution_count": 0,
      "outputs": []
    },
    {
      "cell_type": "code",
      "metadata": {
        "id": "d4JSp8EUS4gt",
        "colab_type": "code",
        "colab": {}
      },
      "source": [
        "train_top1000 = train.loc[0:300]"
      ],
      "execution_count": 0,
      "outputs": []
    },
    {
      "cell_type": "code",
      "metadata": {
        "id": "iiloCXsGGeUh",
        "colab_type": "code",
        "colab": {}
      },
      "source": [
        "train_test = train_top1000\n",
        "train_test"
      ],
      "execution_count": 0,
      "outputs": []
    },
    {
      "cell_type": "code",
      "metadata": {
        "id": "JpwGWm43R7Py",
        "colab_type": "code",
        "colab": {}
      },
      "source": [
        "plylst_song_map = train_test[['id','songs']]\n",
        "\n",
        "plylst_song_map_unset = np.dstack(\n",
        "    (\n",
        "        np.repeat(plylst_song_map.id.values, list(map(len, plylst_song_map.songs))), np.concatenate(plylst_song_map.songs.values)\n",
        "    )\n",
        ")\n",
        "\n",
        "plylst_song_map = pd.DataFrame(data=plylst_song_map_unset[0],columns=plylst_song_map.columns)\n",
        "plylst_song_map['id']=plylst_song_map['id'].astype(str)\n",
        "plylst_song_map['songs']=plylst_song_map['songs'].astype(str)\n",
        "\n",
        "del plylst_song_map_unset"
      ],
      "execution_count": 0,
      "outputs": []
    },
    {
      "cell_type": "code",
      "metadata": {
        "id": "B_wLeqygS0T1",
        "colab_type": "code",
        "colab": {}
      },
      "source": [
        "plylst_song_cnt = pd.DataFrame(plylst_song_map.groupby('songs').id.nunique()).reset_index()"
      ],
      "execution_count": 0,
      "outputs": []
    },
    {
      "cell_type": "code",
      "metadata": {
        "id": "3erS3mu90gqc",
        "colab_type": "code",
        "colab": {}
      },
      "source": [
        "plylst_song_cnt.rename(columns={'songs' : 'id', 'id' : 'count'}, inplace=True)\n",
        "plylst_song_cnt"
      ],
      "execution_count": 0,
      "outputs": []
    },
    {
      "cell_type": "code",
      "metadata": {
        "id": "5t1yz4pJ0jO7",
        "colab_type": "code",
        "colab": {}
      },
      "source": [
        "song_meta_content = song_meta[['id','song_name','artist_name_basket']]"
      ],
      "execution_count": 0,
      "outputs": []
    },
    {
      "cell_type": "code",
      "metadata": {
        "id": "p9h5Bj3S13Lp",
        "colab_type": "code",
        "colab": {}
      },
      "source": [
        "song_meta_content['id'] = song_meta_content['id'].astype(int)\n",
        "plylst_song_cnt['id'] = plylst_song_cnt['id'].astype(int)\n",
        "song_meta_content_cnt = song_meta_content.merge(plylst_song_cnt,on='id')"
      ],
      "execution_count": 0,
      "outputs": []
    },
    {
      "cell_type": "code",
      "metadata": {
        "id": "xx_uu2P71_63",
        "colab_type": "code",
        "colab": {}
      },
      "source": [
        "plylst_name = train_test[['plylst_title','songs','like_cnt','tags','id']]"
      ],
      "execution_count": 0,
      "outputs": []
    },
    {
      "cell_type": "code",
      "metadata": {
        "id": "pU0t8OOT2Bm7",
        "colab_type": "code",
        "colab": {}
      },
      "source": [
        "s = plylst_name.apply(lambda x: pd.Series(x['songs']), axis=1).stack().reset_index(level=1, drop=True)\n",
        "s.name = 'song'\n",
        "plylst_name_meta = plylst_name.drop('songs',axis=1).join(s)"
      ],
      "execution_count": 0,
      "outputs": []
    },
    {
      "cell_type": "code",
      "metadata": {
        "id": "N3OTc77b2Ddp",
        "colab_type": "code",
        "colab": {}
      },
      "source": [
        "plylst_name_meta['song'] = plylst_name_meta['song'].astype(int)"
      ],
      "execution_count": 0,
      "outputs": []
    },
    {
      "cell_type": "code",
      "metadata": {
        "id": "kX_4YgjD2ES1",
        "colab_type": "code",
        "colab": {}
      },
      "source": [
        "s = plylst_name_meta.set_index('song')"
      ],
      "execution_count": 0,
      "outputs": []
    },
    {
      "cell_type": "code",
      "metadata": {
        "id": "65ua1hmW2Gnb",
        "colab_type": "code",
        "colab": {}
      },
      "source": [
        "s['tags'] = s['tags'].astype(str)\n",
        "s['description'] = s['plylst_title'] + s['tags']"
      ],
      "execution_count": 0,
      "outputs": []
    },
    {
      "cell_type": "code",
      "metadata": {
        "id": "KOJkBHpE5IXz",
        "colab_type": "code",
        "colab": {}
      },
      "source": [
        "s = s.drop('plylst_title',axis=1)\n",
        "s = s.drop('tags',axis=1)"
      ],
      "execution_count": 0,
      "outputs": []
    },
    {
      "cell_type": "code",
      "metadata": {
        "id": "GS7oqTv65Xfi",
        "colab_type": "code",
        "colab": {}
      },
      "source": [
        "s.sort_values('like_cnt',ascending=False)"
      ],
      "execution_count": 0,
      "outputs": []
    },
    {
      "cell_type": "code",
      "metadata": {
        "id": "-FAIBDUW7fMW",
        "colab_type": "code",
        "colab": {}
      },
      "source": [
        "s = s.reset_index()"
      ],
      "execution_count": 0,
      "outputs": []
    },
    {
      "cell_type": "code",
      "metadata": {
        "id": "W8J8DRKY7h5-",
        "colab_type": "code",
        "colab": {}
      },
      "source": [
        "s['song'] = s['song'].astype(int)\n",
        "song_num = s[['song','description','id']]"
      ],
      "execution_count": 0,
      "outputs": []
    },
    {
      "cell_type": "code",
      "metadata": {
        "id": "DqmgEfHoAYj-",
        "colab_type": "code",
        "colab": {}
      },
      "source": [
        "song_num=song_num.rename(columns={'song' : 'song_id', 'id' : 'plylst_id'})"
      ],
      "execution_count": 0,
      "outputs": []
    },
    {
      "cell_type": "code",
      "metadata": {
        "id": "xs1jTFZNFwrh",
        "colab_type": "code",
        "colab": {}
      },
      "source": [
        "song_meta_content_cnt['id'] = song_meta_content_cnt['id'].astype(int)\n",
        "song_num['song_id'] = song_num['song_id'].astype(int)"
      ],
      "execution_count": 0,
      "outputs": []
    },
    {
      "cell_type": "code",
      "metadata": {
        "id": "CthAkb4xFzmJ",
        "colab_type": "code",
        "colab": {}
      },
      "source": [
        "song_meta_content_all = pd.DataFrame.merge(song_meta_content_cnt,song_num, how='left', left_on='id', right_on='song_id')"
      ],
      "execution_count": 0,
      "outputs": []
    },
    {
      "cell_type": "code",
      "metadata": {
        "id": "e7-thhNcF08m",
        "colab_type": "code",
        "colab": {}
      },
      "source": [
        "song_meta_content_all.head(50)"
      ],
      "execution_count": 0,
      "outputs": []
    },
    {
      "cell_type": "code",
      "metadata": {
        "id": "YYKjZrMqHptL",
        "colab_type": "code",
        "colab": {}
      },
      "source": [
        "twitter = Twitter()\n",
        "# mecab = Mecab()"
      ],
      "execution_count": 0,
      "outputs": []
    },
    {
      "cell_type": "code",
      "metadata": {
        "id": "0W8xvp89HvtG",
        "colab_type": "code",
        "colab": {}
      },
      "source": [
        "test = song_meta_content_all"
      ],
      "execution_count": 0,
      "outputs": []
    },
    {
      "cell_type": "code",
      "metadata": {
        "id": "EJL1eTFWN8rL",
        "colab_type": "code",
        "colab": {}
      },
      "source": [
        "test['description'] = test['description'].astype(str)\n",
        "test['description'] = test['description'].apply(lambda x : twitter.nouns(x))\n",
        "# test['description'] = test['description'].apply(lambda x : mecab.nouns(x))"
      ],
      "execution_count": 0,
      "outputs": []
    },
    {
      "cell_type": "code",
      "metadata": {
        "id": "LaVFtejZQqG1",
        "colab_type": "code",
        "colab": {}
      },
      "source": [
        "test['description'] = test['description'].astype(str)"
      ],
      "execution_count": 0,
      "outputs": []
    },
    {
      "cell_type": "code",
      "metadata": {
        "id": "Z-WafJhnHy_Y",
        "colab_type": "code",
        "colab": {}
      },
      "source": [
        "# tf = TfidfVectorizer(ngram_range=(1, 2), min_df=1, max_df=0.8)\n",
        "# tfidf_matrix = tf.fit_transform(test['description'])"
      ],
      "execution_count": 0,
      "outputs": []
    },
    {
      "cell_type": "code",
      "metadata": {
        "id": "FlklOr9ySXfa",
        "colab_type": "code",
        "colab": {}
      },
      "source": [
        "# tfidf_matrix.shape"
      ],
      "execution_count": 0,
      "outputs": []
    },
    {
      "cell_type": "code",
      "metadata": {
        "id": "C47A2hpXSYey",
        "colab_type": "code",
        "colab": {}
      },
      "source": [
        "# cosine_sim = linear_kernel(tfidf_matrix, tfidf_matrix)"
      ],
      "execution_count": 0,
      "outputs": []
    },
    {
      "cell_type": "code",
      "metadata": {
        "id": "xlO0O5ZTSZpH",
        "colab_type": "code",
        "colab": {}
      },
      "source": [
        "count = CountVectorizer(ngram_range=(1,2), min_df=0)\n",
        "count_matrix = count.fit_transform(test['description'])"
      ],
      "execution_count": 0,
      "outputs": []
    },
    {
      "cell_type": "code",
      "metadata": {
        "id": "NVRDO-5nSapk",
        "colab_type": "code",
        "colab": {}
      },
      "source": [
        "cosine_sim = cosine_similarity(count_matrix, count_matrix)"
      ],
      "execution_count": 0,
      "outputs": []
    },
    {
      "cell_type": "code",
      "metadata": {
        "id": "QhVhrevoSbwW",
        "colab_type": "code",
        "colab": {}
      },
      "source": [
        "cosine_sim[0]"
      ],
      "execution_count": 0,
      "outputs": []
    },
    {
      "cell_type": "code",
      "metadata": {
        "id": "ZwXqd7aqSc1r",
        "colab_type": "code",
        "colab": {}
      },
      "source": [
        "titles = test['song_name']\n",
        "indices = pd.Series(test.index, index=test['song_name'])"
      ],
      "execution_count": 0,
      "outputs": []
    },
    {
      "cell_type": "code",
      "metadata": {
        "id": "Px5lONE6Sd3q",
        "colab_type": "code",
        "colab": {}
      },
      "source": [
        "test"
      ],
      "execution_count": 0,
      "outputs": []
    },
    {
      "cell_type": "code",
      "metadata": {
        "id": "pgMEcDoSSfkD",
        "colab_type": "code",
        "colab": {}
      },
      "source": [
        "def get_recommendations(song_name) :\n",
        "    idx = list(indices[song_name])\n",
        "    print('메치된 곡 수 : {}\\n\\n'.format(len(idx)))\n",
        "    # print(idx)\n",
        "    for i in range(0,len(idx)):\n",
        "        plylst = test.loc[idx[i]]['plylst_id']\n",
        "        print('{}의 인덱스 {}번\\n'.format(song_name,idx[i]))\n",
        "        print('{}의 plylst ID는 {}\\n'.format(song_name,plylst))\n",
        "        sim_scores = list(enumerate(cosine_sim[idx[i]]))\n",
        "        sim_scores = sorted(sim_scores, key=lambda x: x[1], reverse=True)\n",
        "        sim_scores = sim_scores[1:31]\n",
        "        song_indices = [i[0] for i in sim_scores]\n",
        "        df = train_test[train_test['id']==plylst]\n",
        "        songs = str(df['songs'].values)\n",
        "        key = re.compile('[0-9|]+')\n",
        "        songs = list(key.findall(songs))\n",
        "        # songs =songs.sort()\n",
        "        print(test.iloc[song_indices][['song_name','song_id']].head(10))\n",
        "        print('\\n')\n",
        "        print(songs)\n",
        "        print('\\n\\n')"
      ],
      "execution_count": 0,
      "outputs": []
    }
  ]
}